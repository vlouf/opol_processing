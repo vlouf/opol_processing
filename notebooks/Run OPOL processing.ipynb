{
 "cells": [
  {
   "cell_type": "code",
   "execution_count": 3,
   "id": "3ba324be",
   "metadata": {
    "ExecuteTime": {
     "end_time": "2021-06-25T23:18:55.042840Z",
     "start_time": "2021-06-25T23:18:52.436478Z"
    }
   },
   "outputs": [],
   "source": [
    "import os\n",
    "import glob\n",
    "import warnings\n",
    "\n",
    "import pyart\n",
    "import opol_processing\n",
    "import dask.bag as db\n",
    "from dask.diagnostics import ProgressBar"
   ]
  },
  {
   "cell_type": "code",
   "execution_count": 4,
   "id": "94ee1fbb",
   "metadata": {
    "ExecuteTime": {
     "end_time": "2021-06-25T23:18:55.055226Z",
     "start_time": "2021-06-25T23:18:55.052398Z"
    }
   },
   "outputs": [
    {
     "name": "stderr",
     "output_type": "stream",
     "text": [
      "/home/548/vhl548/.local/miniconda3/envs/radar/lib/python3.9/site-packages/ipykernel/ipkernel.py:287: DeprecationWarning: `should_run_async` will not call `transform_cell` automatically in the future. Please pass the result to `transformed_cell` argument and any exception that happen during thetransform in `preprocessing_exc_tuple` in IPython 7.17 and above.\n",
      "  and should_run_async(code)\n"
     ]
    }
   ],
   "source": [
    "warnings.simplefilter(\"ignore\")"
   ]
  },
  {
   "cell_type": "code",
   "execution_count": 5,
   "id": "7da9b598",
   "metadata": {
    "ExecuteTime": {
     "end_time": "2021-06-25T23:19:07.424076Z",
     "start_time": "2021-06-25T23:19:07.397732Z"
    }
   },
   "outputs": [],
   "source": [
    "flist = glob.glob(\"/g/data/hj10/admin/opol/level_1/in2019_t03/2020010*/*.*\")"
   ]
  },
  {
   "cell_type": "code",
   "execution_count": 10,
   "id": "89053112",
   "metadata": {
    "ExecuteTime": {
     "end_time": "2021-06-26T00:33:22.483316Z",
     "start_time": "2021-06-26T00:33:21.658197Z"
    }
   },
   "outputs": [],
   "source": [
    "radar = pyart.aux_io.read_odim_h5(\"/g/data/hj10/admin/opol/level_1/in2019_t03/20200101/9776HUB-PPIVol-20200101-151800-0000.hdf\", file_field_names=True)"
   ]
  },
  {
   "cell_type": "code",
   "execution_count": 6,
   "id": "72f6c84e",
   "metadata": {
    "ExecuteTime": {
     "end_time": "2021-06-25T23:19:12.011788Z",
     "start_time": "2021-06-25T23:19:12.008552Z"
    }
   },
   "outputs": [],
   "source": [
    "def buffer(infile):\n",
    "    try:\n",
    "        opol_processing.process_and_save(infile, \"/scratch/kl02/vhl548/opol/\")\n",
    "    except Exception:\n",
    "        return infile\n",
    "    return None"
   ]
  },
  {
   "cell_type": "code",
   "execution_count": 7,
   "id": "19447316",
   "metadata": {
    "ExecuteTime": {
     "end_time": "2021-06-25T23:19:12.191368Z",
     "start_time": "2021-06-25T23:19:12.182311Z"
    }
   },
   "outputs": [
    {
     "data": {
      "text/plain": [
       "220"
      ]
     },
     "execution_count": 7,
     "metadata": {},
     "output_type": "execute_result"
    }
   ],
   "source": [
    "len(flist)"
   ]
  },
  {
   "cell_type": "code",
   "execution_count": 18,
   "id": "3c5b8b4b",
   "metadata": {
    "ExecuteTime": {
     "end_time": "2021-06-26T01:55:28.574050Z",
     "start_time": "2021-06-26T01:40:53.933422Z"
    },
    "scrolled": true
   },
   "outputs": [
    {
     "name": "stdout",
     "output_type": "stream",
     "text": [
      "[#####################################   ] | 93% Completed | 14min 34.2s\n"
     ]
    },
    {
     "ename": "KeyboardInterrupt",
     "evalue": "",
     "output_type": "error",
     "traceback": [
      "\u001b[0;31m---------------------------------------------------------------------------\u001b[0m",
      "\u001b[0;31mKeyboardInterrupt\u001b[0m                         Traceback (most recent call last)",
      "\u001b[0;32m<ipython-input-18-3d13e85225c5>\u001b[0m in \u001b[0;36m<module>\u001b[0;34m\u001b[0m\n\u001b[1;32m      1\u001b[0m \u001b[0mbag\u001b[0m \u001b[0;34m=\u001b[0m \u001b[0mdb\u001b[0m\u001b[0;34m.\u001b[0m\u001b[0mfrom_sequence\u001b[0m\u001b[0;34m(\u001b[0m\u001b[0mmiss\u001b[0m\u001b[0;34m)\u001b[0m\u001b[0;34m.\u001b[0m\u001b[0mmap\u001b[0m\u001b[0;34m(\u001b[0m\u001b[0mbuffer\u001b[0m\u001b[0;34m)\u001b[0m\u001b[0;34m\u001b[0m\u001b[0;34m\u001b[0m\u001b[0m\n\u001b[1;32m      2\u001b[0m \u001b[0;32mwith\u001b[0m \u001b[0mProgressBar\u001b[0m\u001b[0;34m(\u001b[0m\u001b[0;34m)\u001b[0m\u001b[0;34m:\u001b[0m\u001b[0;34m\u001b[0m\u001b[0;34m\u001b[0m\u001b[0m\n\u001b[0;32m----> 3\u001b[0;31m     \u001b[0mrslt\u001b[0m \u001b[0;34m=\u001b[0m \u001b[0mbag\u001b[0m\u001b[0;34m.\u001b[0m\u001b[0mcompute\u001b[0m\u001b[0;34m(\u001b[0m\u001b[0;34m)\u001b[0m\u001b[0;34m\u001b[0m\u001b[0;34m\u001b[0m\u001b[0m\n\u001b[0m",
      "\u001b[0;32m~/.local/miniconda3/envs/radar/lib/python3.9/site-packages/dask/base.py\u001b[0m in \u001b[0;36mcompute\u001b[0;34m(self, **kwargs)\u001b[0m\n\u001b[1;32m    283\u001b[0m         \u001b[0mdask\u001b[0m\u001b[0;34m.\u001b[0m\u001b[0mbase\u001b[0m\u001b[0;34m.\u001b[0m\u001b[0mcompute\u001b[0m\u001b[0;34m\u001b[0m\u001b[0;34m\u001b[0m\u001b[0m\n\u001b[1;32m    284\u001b[0m         \"\"\"\n\u001b[0;32m--> 285\u001b[0;31m         \u001b[0;34m(\u001b[0m\u001b[0mresult\u001b[0m\u001b[0;34m,\u001b[0m\u001b[0;34m)\u001b[0m \u001b[0;34m=\u001b[0m \u001b[0mcompute\u001b[0m\u001b[0;34m(\u001b[0m\u001b[0mself\u001b[0m\u001b[0;34m,\u001b[0m \u001b[0mtraverse\u001b[0m\u001b[0;34m=\u001b[0m\u001b[0;32mFalse\u001b[0m\u001b[0;34m,\u001b[0m \u001b[0;34m**\u001b[0m\u001b[0mkwargs\u001b[0m\u001b[0;34m)\u001b[0m\u001b[0;34m\u001b[0m\u001b[0;34m\u001b[0m\u001b[0m\n\u001b[0m\u001b[1;32m    286\u001b[0m         \u001b[0;32mreturn\u001b[0m \u001b[0mresult\u001b[0m\u001b[0;34m\u001b[0m\u001b[0;34m\u001b[0m\u001b[0m\n\u001b[1;32m    287\u001b[0m \u001b[0;34m\u001b[0m\u001b[0m\n",
      "\u001b[0;32m~/.local/miniconda3/envs/radar/lib/python3.9/site-packages/dask/base.py\u001b[0m in \u001b[0;36mcompute\u001b[0;34m(*args, **kwargs)\u001b[0m\n\u001b[1;32m    565\u001b[0m         \u001b[0mpostcomputes\u001b[0m\u001b[0;34m.\u001b[0m\u001b[0mappend\u001b[0m\u001b[0;34m(\u001b[0m\u001b[0mx\u001b[0m\u001b[0;34m.\u001b[0m\u001b[0m__dask_postcompute__\u001b[0m\u001b[0;34m(\u001b[0m\u001b[0;34m)\u001b[0m\u001b[0;34m)\u001b[0m\u001b[0;34m\u001b[0m\u001b[0;34m\u001b[0m\u001b[0m\n\u001b[1;32m    566\u001b[0m \u001b[0;34m\u001b[0m\u001b[0m\n\u001b[0;32m--> 567\u001b[0;31m     \u001b[0mresults\u001b[0m \u001b[0;34m=\u001b[0m \u001b[0mschedule\u001b[0m\u001b[0;34m(\u001b[0m\u001b[0mdsk\u001b[0m\u001b[0;34m,\u001b[0m \u001b[0mkeys\u001b[0m\u001b[0;34m,\u001b[0m \u001b[0;34m**\u001b[0m\u001b[0mkwargs\u001b[0m\u001b[0;34m)\u001b[0m\u001b[0;34m\u001b[0m\u001b[0;34m\u001b[0m\u001b[0m\n\u001b[0m\u001b[1;32m    568\u001b[0m     \u001b[0;32mreturn\u001b[0m \u001b[0mrepack\u001b[0m\u001b[0;34m(\u001b[0m\u001b[0;34m[\u001b[0m\u001b[0mf\u001b[0m\u001b[0;34m(\u001b[0m\u001b[0mr\u001b[0m\u001b[0;34m,\u001b[0m \u001b[0;34m*\u001b[0m\u001b[0ma\u001b[0m\u001b[0;34m)\u001b[0m \u001b[0;32mfor\u001b[0m \u001b[0mr\u001b[0m\u001b[0;34m,\u001b[0m \u001b[0;34m(\u001b[0m\u001b[0mf\u001b[0m\u001b[0;34m,\u001b[0m \u001b[0ma\u001b[0m\u001b[0;34m)\u001b[0m \u001b[0;32min\u001b[0m \u001b[0mzip\u001b[0m\u001b[0;34m(\u001b[0m\u001b[0mresults\u001b[0m\u001b[0;34m,\u001b[0m \u001b[0mpostcomputes\u001b[0m\u001b[0;34m)\u001b[0m\u001b[0;34m]\u001b[0m\u001b[0;34m)\u001b[0m\u001b[0;34m\u001b[0m\u001b[0;34m\u001b[0m\u001b[0m\n\u001b[1;32m    569\u001b[0m \u001b[0;34m\u001b[0m\u001b[0m\n",
      "\u001b[0;32m~/.local/miniconda3/envs/radar/lib/python3.9/site-packages/dask/multiprocessing.py\u001b[0m in \u001b[0;36mget\u001b[0;34m(dsk, keys, num_workers, func_loads, func_dumps, optimize_graph, pool, chunksize, **kwargs)\u001b[0m\n\u001b[1;32m    217\u001b[0m     \u001b[0;32mtry\u001b[0m\u001b[0;34m:\u001b[0m\u001b[0;34m\u001b[0m\u001b[0;34m\u001b[0m\u001b[0m\n\u001b[1;32m    218\u001b[0m         \u001b[0;31m# Run\u001b[0m\u001b[0;34m\u001b[0m\u001b[0;34m\u001b[0m\u001b[0;34m\u001b[0m\u001b[0m\n\u001b[0;32m--> 219\u001b[0;31m         result = get_async(\n\u001b[0m\u001b[1;32m    220\u001b[0m             \u001b[0mpool\u001b[0m\u001b[0;34m.\u001b[0m\u001b[0msubmit\u001b[0m\u001b[0;34m,\u001b[0m\u001b[0;34m\u001b[0m\u001b[0;34m\u001b[0m\u001b[0m\n\u001b[1;32m    221\u001b[0m             \u001b[0mpool\u001b[0m\u001b[0;34m.\u001b[0m\u001b[0m_max_workers\u001b[0m\u001b[0;34m,\u001b[0m\u001b[0;34m\u001b[0m\u001b[0;34m\u001b[0m\u001b[0m\n",
      "\u001b[0;32m~/.local/miniconda3/envs/radar/lib/python3.9/site-packages/dask/local.py\u001b[0m in \u001b[0;36mget_async\u001b[0;34m(submit, num_workers, dsk, result, cache, get_id, rerun_exceptions_locally, pack_exception, raise_exception, callbacks, dumps, loads, chunksize, **kwargs)\u001b[0m\n\u001b[1;32m    501\u001b[0m             \u001b[0;32mwhile\u001b[0m \u001b[0mstate\u001b[0m\u001b[0;34m[\u001b[0m\u001b[0;34m\"waiting\"\u001b[0m\u001b[0;34m]\u001b[0m \u001b[0;32mor\u001b[0m \u001b[0mstate\u001b[0m\u001b[0;34m[\u001b[0m\u001b[0;34m\"ready\"\u001b[0m\u001b[0;34m]\u001b[0m \u001b[0;32mor\u001b[0m \u001b[0mstate\u001b[0m\u001b[0;34m[\u001b[0m\u001b[0;34m\"running\"\u001b[0m\u001b[0;34m]\u001b[0m\u001b[0;34m:\u001b[0m\u001b[0;34m\u001b[0m\u001b[0;34m\u001b[0m\u001b[0m\n\u001b[1;32m    502\u001b[0m                 \u001b[0mfire_tasks\u001b[0m\u001b[0;34m(\u001b[0m\u001b[0mchunksize\u001b[0m\u001b[0;34m)\u001b[0m\u001b[0;34m\u001b[0m\u001b[0;34m\u001b[0m\u001b[0m\n\u001b[0;32m--> 503\u001b[0;31m                 \u001b[0;32mfor\u001b[0m \u001b[0mkey\u001b[0m\u001b[0;34m,\u001b[0m \u001b[0mres_info\u001b[0m\u001b[0;34m,\u001b[0m \u001b[0mfailed\u001b[0m \u001b[0;32min\u001b[0m \u001b[0mqueue_get\u001b[0m\u001b[0;34m(\u001b[0m\u001b[0mqueue\u001b[0m\u001b[0;34m)\u001b[0m\u001b[0;34m.\u001b[0m\u001b[0mresult\u001b[0m\u001b[0;34m(\u001b[0m\u001b[0;34m)\u001b[0m\u001b[0;34m:\u001b[0m\u001b[0;34m\u001b[0m\u001b[0;34m\u001b[0m\u001b[0m\n\u001b[0m\u001b[1;32m    504\u001b[0m                     \u001b[0;32mif\u001b[0m \u001b[0mfailed\u001b[0m\u001b[0;34m:\u001b[0m\u001b[0;34m\u001b[0m\u001b[0;34m\u001b[0m\u001b[0m\n\u001b[1;32m    505\u001b[0m                         \u001b[0mexc\u001b[0m\u001b[0;34m,\u001b[0m \u001b[0mtb\u001b[0m \u001b[0;34m=\u001b[0m \u001b[0mloads\u001b[0m\u001b[0;34m(\u001b[0m\u001b[0mres_info\u001b[0m\u001b[0;34m)\u001b[0m\u001b[0;34m\u001b[0m\u001b[0;34m\u001b[0m\u001b[0m\n",
      "\u001b[0;32m~/.local/miniconda3/envs/radar/lib/python3.9/site-packages/dask/local.py\u001b[0m in \u001b[0;36mqueue_get\u001b[0;34m(q)\u001b[0m\n\u001b[1;32m    132\u001b[0m \u001b[0;34m\u001b[0m\u001b[0m\n\u001b[1;32m    133\u001b[0m     \u001b[0;32mdef\u001b[0m \u001b[0mqueue_get\u001b[0m\u001b[0;34m(\u001b[0m\u001b[0mq\u001b[0m\u001b[0;34m)\u001b[0m\u001b[0;34m:\u001b[0m\u001b[0;34m\u001b[0m\u001b[0;34m\u001b[0m\u001b[0m\n\u001b[0;32m--> 134\u001b[0;31m         \u001b[0;32mreturn\u001b[0m \u001b[0mq\u001b[0m\u001b[0;34m.\u001b[0m\u001b[0mget\u001b[0m\u001b[0;34m(\u001b[0m\u001b[0;34m)\u001b[0m\u001b[0;34m\u001b[0m\u001b[0;34m\u001b[0m\u001b[0m\n\u001b[0m\u001b[1;32m    135\u001b[0m \u001b[0;34m\u001b[0m\u001b[0m\n\u001b[1;32m    136\u001b[0m \u001b[0;34m\u001b[0m\u001b[0m\n",
      "\u001b[0;32m~/.local/miniconda3/envs/radar/lib/python3.9/queue.py\u001b[0m in \u001b[0;36mget\u001b[0;34m(self, block, timeout)\u001b[0m\n\u001b[1;32m    169\u001b[0m             \u001b[0;32melif\u001b[0m \u001b[0mtimeout\u001b[0m \u001b[0;32mis\u001b[0m \u001b[0;32mNone\u001b[0m\u001b[0;34m:\u001b[0m\u001b[0;34m\u001b[0m\u001b[0;34m\u001b[0m\u001b[0m\n\u001b[1;32m    170\u001b[0m                 \u001b[0;32mwhile\u001b[0m \u001b[0;32mnot\u001b[0m \u001b[0mself\u001b[0m\u001b[0;34m.\u001b[0m\u001b[0m_qsize\u001b[0m\u001b[0;34m(\u001b[0m\u001b[0;34m)\u001b[0m\u001b[0;34m:\u001b[0m\u001b[0;34m\u001b[0m\u001b[0;34m\u001b[0m\u001b[0m\n\u001b[0;32m--> 171\u001b[0;31m                     \u001b[0mself\u001b[0m\u001b[0;34m.\u001b[0m\u001b[0mnot_empty\u001b[0m\u001b[0;34m.\u001b[0m\u001b[0mwait\u001b[0m\u001b[0;34m(\u001b[0m\u001b[0;34m)\u001b[0m\u001b[0;34m\u001b[0m\u001b[0;34m\u001b[0m\u001b[0m\n\u001b[0m\u001b[1;32m    172\u001b[0m             \u001b[0;32melif\u001b[0m \u001b[0mtimeout\u001b[0m \u001b[0;34m<\u001b[0m \u001b[0;36m0\u001b[0m\u001b[0;34m:\u001b[0m\u001b[0;34m\u001b[0m\u001b[0;34m\u001b[0m\u001b[0m\n\u001b[1;32m    173\u001b[0m                 \u001b[0;32mraise\u001b[0m \u001b[0mValueError\u001b[0m\u001b[0;34m(\u001b[0m\u001b[0;34m\"'timeout' must be a non-negative number\"\u001b[0m\u001b[0;34m)\u001b[0m\u001b[0;34m\u001b[0m\u001b[0;34m\u001b[0m\u001b[0m\n",
      "\u001b[0;32m~/.local/miniconda3/envs/radar/lib/python3.9/threading.py\u001b[0m in \u001b[0;36mwait\u001b[0;34m(self, timeout)\u001b[0m\n\u001b[1;32m    310\u001b[0m         \u001b[0;32mtry\u001b[0m\u001b[0;34m:\u001b[0m    \u001b[0;31m# restore state no matter what (e.g., KeyboardInterrupt)\u001b[0m\u001b[0;34m\u001b[0m\u001b[0;34m\u001b[0m\u001b[0m\n\u001b[1;32m    311\u001b[0m             \u001b[0;32mif\u001b[0m \u001b[0mtimeout\u001b[0m \u001b[0;32mis\u001b[0m \u001b[0;32mNone\u001b[0m\u001b[0;34m:\u001b[0m\u001b[0;34m\u001b[0m\u001b[0;34m\u001b[0m\u001b[0m\n\u001b[0;32m--> 312\u001b[0;31m                 \u001b[0mwaiter\u001b[0m\u001b[0;34m.\u001b[0m\u001b[0macquire\u001b[0m\u001b[0;34m(\u001b[0m\u001b[0;34m)\u001b[0m\u001b[0;34m\u001b[0m\u001b[0;34m\u001b[0m\u001b[0m\n\u001b[0m\u001b[1;32m    313\u001b[0m                 \u001b[0mgotit\u001b[0m \u001b[0;34m=\u001b[0m \u001b[0;32mTrue\u001b[0m\u001b[0;34m\u001b[0m\u001b[0;34m\u001b[0m\u001b[0m\n\u001b[1;32m    314\u001b[0m             \u001b[0;32melse\u001b[0m\u001b[0;34m:\u001b[0m\u001b[0;34m\u001b[0m\u001b[0;34m\u001b[0m\u001b[0m\n",
      "\u001b[0;31mKeyboardInterrupt\u001b[0m: "
     ]
    }
   ],
   "source": [
    "bag = db.from_sequence(miss).map(buffer)\n",
    "with ProgressBar():\n",
    "    rslt = bag.compute()"
   ]
  },
  {
   "cell_type": "code",
   "execution_count": 19,
   "id": "2b539884",
   "metadata": {
    "ExecuteTime": {
     "end_time": "2021-06-26T01:55:30.868508Z",
     "start_time": "2021-06-26T01:55:30.859698Z"
    }
   },
   "outputs": [
    {
     "data": {
      "text/plain": [
       "['/g/data/hj10/admin/opol/level_1/in2019_t03/20200102/9776HUB-PPIVol-20200102-024800-0000.hdf',\n",
       " '/g/data/hj10/admin/opol/level_1/in2019_t03/20200102/9776HUB-PPIVol-20200102-033000-0000.hdf',\n",
       " '/g/data/hj10/admin/opol/level_1/in2019_t03/20200102/9776HUB-PPIVol-20200102-020600-0000.hdf',\n",
       " '/g/data/hj10/admin/opol/level_1/in2019_t03/20200102/9776HUB-PPIVol-20200102-032400-0000.hdf',\n",
       " '/g/data/hj10/admin/opol/level_1/in2019_t03/20200102/9776HUB-PPIVol-20200102-003600-0000.hdf',\n",
       " '/g/data/hj10/admin/opol/level_1/in2019_t03/20200102/9776HUB-PPIVol-20200102-015400-0000.hdf',\n",
       " '/g/data/hj10/admin/opol/level_1/in2019_t03/20200101/9776HUB-PPIVol-20200101-015400-0000.hdf',\n",
       " '/g/data/hj10/admin/opol/level_1/in2019_t03/20200101/9776HUB-PPIVol-20200101-030000-0000.hdf',\n",
       " '/g/data/hj10/admin/opol/level_1/in2019_t03/20200101/9776HUB-PPIVol-20200101-114800-0000.hdf',\n",
       " '/g/data/hj10/admin/opol/level_1/in2019_t03/20200101/9776HUB-PPIVol-20200101-201800-0000.hdf',\n",
       " '/g/data/hj10/admin/opol/level_1/in2019_t03/20200101/9776HUB-PPIVol-20200101-133000-0000.hdf',\n",
       " '/g/data/hj10/admin/opol/level_1/in2019_t03/20200101/9776HUB-PPIVol-20200101-221800-0000.hdf',\n",
       " '/g/data/hj10/admin/opol/level_1/in2019_t03/20200101/9776HUB-PPIVol-20200101-134800-0000.hdf',\n",
       " '/g/data/hj10/admin/opol/level_1/in2019_t03/20200101/9776HUB-PPIVol-20200101-035400-0000.hdf',\n",
       " '/g/data/hj10/admin/opol/level_1/in2019_t03/20200101/9776HUB-PPIVol-20200101-010000-0000.hdf',\n",
       " '/g/data/hj10/admin/opol/level_1/in2019_t03/20200101/9776HUB-PPIVol-20200101-170600-0000.hdf',\n",
       " '/g/data/hj10/admin/opol/level_1/in2019_t03/20200101/9776HUB-PPIVol-20200101-034200-0000.hdf',\n",
       " '/g/data/hj10/admin/opol/level_1/in2019_t03/20200101/9776HUB-PPIVol-20200101-113000-0000.hdf',\n",
       " '/g/data/hj10/admin/opol/level_1/in2019_t03/20200101/9776HUB-PPIVol-20200101-223600-0000.hdf',\n",
       " '/g/data/hj10/admin/opol/level_1/in2019_t03/20200101/9776HUB-PPIVol-20200101-121200-0000.hdf',\n",
       " '/g/data/hj10/admin/opol/level_1/in2019_t03/20200101/9776HUB-PPIVol-20200101-234200-0000.hdf',\n",
       " '/g/data/hj10/admin/opol/level_1/in2019_t03/20200101/9776HUB-PPIVol-20200101-021800-0000.hdf',\n",
       " '/g/data/hj10/admin/opol/level_1/in2019_t03/20200101/9776HUB-PPIVol-20200101-235400-0000.hdf',\n",
       " '/g/data/hj10/admin/opol/level_1/in2019_t03/20200101/9776HUB-PPIVol-20200101-210000-0000.hdf',\n",
       " '/g/data/hj10/admin/opol/level_1/in2019_t03/20200101/9776HUB-PPIVol-20200101-194800-0000.hdf',\n",
       " '/g/data/hj10/admin/opol/level_1/in2019_t03/20200101/9776HUB-PPIVol-20200101-142400-0000.hdf',\n",
       " '/g/data/hj10/admin/opol/level_1/in2019_t03/20200101/9776HUB-PPIVol-20200101-184800-0000.hdf',\n",
       " '/g/data/hj10/admin/opol/level_1/in2019_t03/20200101/9776HUB-PPIVol-20200101-152400-0000.hdf',\n",
       " '/g/data/hj10/admin/opol/level_1/in2019_t03/20200101/9776HUB-PPIVol-20200101-224200-0000.hdf',\n",
       " '/g/data/hj10/admin/opol/level_1/in2019_t03/20200101/9776HUB-PPIVol-20200101-131200-0000.hdf',\n",
       " '/g/data/hj10/admin/opol/level_1/in2019_t03/20200101/9776HUB-PPIVol-20200101-214200-0000.hdf',\n",
       " '/g/data/hj10/admin/opol/level_1/in2019_t03/20200101/9776HUB-PPIVol-20200101-193000-0000.hdf',\n",
       " '/g/data/hj10/admin/opol/level_1/in2019_t03/20200101/9776HUB-PPIVol-20200101-162400-0000.hdf',\n",
       " '/g/data/hj10/admin/opol/level_1/in2019_t03/20200101/9776HUB-PPIVol-20200101-223000-0000.hdf',\n",
       " '/g/data/hj10/admin/opol/level_1/in2019_t03/20200101/9776HUB-PPIVol-20200101-180000-0000.hdf',\n",
       " '/g/data/hj10/admin/opol/level_1/in2019_t03/20200101/9776HUB-PPIVol-20200101-204800-0000.hdf',\n",
       " '/g/data/hj10/admin/opol/level_1/in2019_t03/20200101/9776HUB-PPIVol-20200101-214800-0000.hdf',\n",
       " '/g/data/hj10/admin/opol/level_1/in2019_t03/20200101/9776HUB-PPIVol-20200101-001200-0000.hdf',\n",
       " '/g/data/hj10/admin/opol/level_1/in2019_t03/20200101/9776HUB-PPIVol-20200101-233000-0000.hdf',\n",
       " '/g/data/hj10/admin/opol/level_1/in2019_t03/20200101/9776HUB-PPIVol-20200101-190000-0000.hdf',\n",
       " '/g/data/hj10/admin/opol/level_1/in2019_t03/20200101/9776HUB-PPIVol-20200101-021200-0000.hdf',\n",
       " '/g/data/hj10/admin/opol/level_1/in2019_t03/20200101/9776HUB-PPIVol-20200101-193600-0000.hdf',\n",
       " '/g/data/hj10/admin/opol/level_1/in2019_t03/20200101/9776HUB-PPIVol-20200101-161800-0000.hdf',\n",
       " '/g/data/hj10/admin/opol/level_1/in2019_t03/20200101/9776HUB-PPIVol-20200101-230600-0000.hdf',\n",
       " '/g/data/hj10/admin/opol/level_1/in2019_t03/20200101/9776HUB-PPIVol-20200101-171800-0000.hdf',\n",
       " '/g/data/hj10/admin/opol/level_1/in2019_t03/20200101/9776HUB-PPIVol-20200101-183600-0000.hdf',\n",
       " '/g/data/hj10/admin/opol/level_1/in2019_t03/20200101/9776HUB-PPIVol-20200101-220600-0000.hdf',\n",
       " '/g/data/hj10/admin/opol/level_1/in2019_t03/20200101/9776HUB-PPIVol-20200101-012400-0000.hdf',\n",
       " '/g/data/hj10/admin/opol/level_1/in2019_t03/20200101/9776HUB-PPIVol-20200101-200600-0000.hdf',\n",
       " '/g/data/hj10/admin/opol/level_1/in2019_t03/20200101/9776HUB-PPIVol-20200101-151800-0000.hdf',\n",
       " '/g/data/hj10/admin/opol/level_1/in2019_t03/20200101/9776HUB-PPIVol-20200101-032400-0000.hdf',\n",
       " '/g/data/hj10/admin/opol/level_1/in2019_t03/20200101/9776HUB-PPIVol-20200101-022400-0000.hdf',\n",
       " '/g/data/hj10/admin/opol/level_1/in2019_t03/20200101/9776HUB-PPIVol-20200101-154200-0000.hdf',\n",
       " '/g/data/hj10/admin/opol/level_1/in2019_t03/20200101/9776HUB-PPIVol-20200101-133600-0000.hdf',\n",
       " '/g/data/hj10/admin/opol/level_1/in2019_t03/20200101/9776HUB-PPIVol-20200101-202400-0000.hdf',\n",
       " '/g/data/hj10/admin/opol/level_1/in2019_t03/20200101/9776HUB-PPIVol-20200101-174200-0000.hdf',\n",
       " '/g/data/hj10/admin/opol/level_1/in2019_t03/20200101/9776HUB-PPIVol-20200101-030600-0000.hdf',\n",
       " '/g/data/hj10/admin/opol/level_1/in2019_t03/20200101/9776HUB-PPIVol-20200101-175400-0000.hdf',\n",
       " '/g/data/hj10/admin/opol/level_1/in2019_t03/20200101/9776HUB-PPIVol-20200101-150000-0000.hdf',\n",
       " '/g/data/hj10/admin/opol/level_1/in2019_t03/20200101/9776HUB-PPIVol-20200101-164200-0000.hdf',\n",
       " '/g/data/hj10/admin/opol/level_1/in2019_t03/20200101/9776HUB-PPIVol-20200101-140000-0000.hdf',\n",
       " '/g/data/hj10/admin/opol/level_1/in2019_t03/20200101/9776HUB-PPIVol-20200101-165400-0000.hdf',\n",
       " '/g/data/hj10/admin/opol/level_1/in2019_t03/20200101/9776HUB-PPIVol-20200101-123600-0000.hdf',\n",
       " '/g/data/hj10/admin/opol/level_1/in2019_t03/20200101/9776HUB-PPIVol-20200101-212400-0000.hdf',\n",
       " '/g/data/hj10/admin/opol/level_1/in2019_t03/20200101/9776HUB-PPIVol-20200101-135400-0000.hdf',\n",
       " '/g/data/hj10/admin/opol/level_1/in2019_t03/20200101/9776HUB-PPIVol-20200101-221200-0000.hdf',\n",
       " '/g/data/hj10/admin/opol/level_1/in2019_t03/20200101/9776HUB-PPIVol-20200101-134200-0000.hdf',\n",
       " '/g/data/hj10/admin/opol/level_1/in2019_t03/20200101/9776HUB-PPIVol-20200101-173600-0000.hdf',\n",
       " '/g/data/hj10/admin/opol/level_1/in2019_t03/20200101/9776HUB-PPIVol-20200101-181800-0000.hdf',\n",
       " '/g/data/hj10/admin/opol/level_1/in2019_t03/20200101/9776HUB-PPIVol-20200101-003000-0000.hdf',\n",
       " '/g/data/hj10/admin/opol/level_1/in2019_t03/20200101/9776HUB-PPIVol-20200101-191800-0000.hdf',\n",
       " '/g/data/hj10/admin/opol/level_1/in2019_t03/20200101/9776HUB-PPIVol-20200101-163600-0000.hdf',\n",
       " '/g/data/hj10/admin/opol/level_1/in2019_t03/20200101/9776HUB-PPIVol-20200101-125400-0000.hdf',\n",
       " '/g/data/hj10/admin/opol/level_1/in2019_t03/20200101/9776HUB-PPIVol-20200101-124200-0000.hdf',\n",
       " '/g/data/hj10/admin/opol/level_1/in2019_t03/20200101/9776HUB-PPIVol-20200101-231200-0000.hdf',\n",
       " '/g/data/hj10/admin/opol/level_1/in2019_t03/20200101/9776HUB-PPIVol-20200101-143600-0000.hdf',\n",
       " '/g/data/hj10/admin/opol/level_1/in2019_t03/20200101/9776HUB-PPIVol-20200101-023000-0000.hdf',\n",
       " '/g/data/hj10/admin/opol/level_1/in2019_t03/20200101/9776HUB-PPIVol-20200101-040600-0000.hdf',\n",
       " '/g/data/hj10/admin/opol/level_1/in2019_t03/20200101/9776HUB-PPIVol-20200101-211200-0000.hdf',\n",
       " '/g/data/hj10/admin/opol/level_1/in2019_t03/20200101/9776HUB-PPIVol-20200101-120000-0000.hdf',\n",
       " '/g/data/hj10/admin/opol/level_1/in2019_t03/20200101/9776HUB-PPIVol-20200101-114200-0000.hdf',\n",
       " '/g/data/hj10/admin/opol/level_1/in2019_t03/20200101/9776HUB-PPIVol-20200101-201200-0000.hdf',\n",
       " '/g/data/hj10/admin/opol/level_1/in2019_t03/20200101/9776HUB-PPIVol-20200101-130000-0000.hdf',\n",
       " '/g/data/hj10/admin/opol/level_1/in2019_t03/20200101/9776HUB-PPIVol-20200101-115400-0000.hdf',\n",
       " '/g/data/hj10/admin/opol/level_1/in2019_t03/20200101/9776HUB-PPIVol-20200101-014800-0000.hdf',\n",
       " '/g/data/hj10/admin/opol/level_1/in2019_t03/20200101/9776HUB-PPIVol-20200101-153600-0000.hdf',\n",
       " '/g/data/hj10/admin/opol/level_1/in2019_t03/20200101/9776HUB-PPIVol-20200101-033000-0000.hdf']"
      ]
     },
     "execution_count": 19,
     "metadata": {},
     "output_type": "execute_result"
    }
   ],
   "source": [
    "miss"
   ]
  },
  {
   "cell_type": "code",
   "execution_count": 16,
   "id": "a9c12a0c",
   "metadata": {
    "ExecuteTime": {
     "end_time": "2021-06-26T01:40:46.122983Z",
     "start_time": "2021-06-26T01:40:46.119408Z"
    }
   },
   "outputs": [],
   "source": [
    "miss = [r for r in rslt if r is not None]"
   ]
  },
  {
   "cell_type": "code",
   "execution_count": 12,
   "id": "b4c41939",
   "metadata": {
    "ExecuteTime": {
     "end_time": "2021-06-26T01:01:57.289707Z",
     "start_time": "2021-06-26T00:33:39.091844Z"
    }
   },
   "outputs": [],
   "source": [
    "opol_processing.process_and_save(miss[0], \"/scratch/kl02/vhl548/opol/\")"
   ]
  },
  {
   "cell_type": "code",
   "execution_count": null,
   "id": "16346425",
   "metadata": {},
   "outputs": [],
   "source": []
  }
 ],
 "metadata": {
  "kernelspec": {
   "display_name": "Python 3",
   "language": "python",
   "name": "python3"
  },
  "language_info": {
   "codemirror_mode": {
    "name": "ipython",
    "version": 3
   },
   "file_extension": ".py",
   "mimetype": "text/x-python",
   "name": "python",
   "nbconvert_exporter": "python",
   "pygments_lexer": "ipython3",
   "version": "3.9.5"
  },
  "varInspector": {
   "cols": {
    "lenName": 16,
    "lenType": 16,
    "lenVar": 40
   },
   "kernels_config": {
    "python": {
     "delete_cmd_postfix": "",
     "delete_cmd_prefix": "del ",
     "library": "var_list.py",
     "varRefreshCmd": "print(var_dic_list())"
    },
    "r": {
     "delete_cmd_postfix": ") ",
     "delete_cmd_prefix": "rm(",
     "library": "var_list.r",
     "varRefreshCmd": "cat(var_dic_list()) "
    }
   },
   "types_to_exclude": [
    "module",
    "function",
    "builtin_function_or_method",
    "instance",
    "_Feature"
   ],
   "window_display": false
  }
 },
 "nbformat": 4,
 "nbformat_minor": 5
}
