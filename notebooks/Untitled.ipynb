{
 "cells": [
  {
   "cell_type": "code",
   "execution_count": 1,
   "metadata": {
    "ExecuteTime": {
     "end_time": "2020-03-19T05:27:15.432773Z",
     "start_time": "2020-03-19T05:27:13.535106Z"
    }
   },
   "outputs": [],
   "source": [
    "import opol_processing"
   ]
  },
  {
   "cell_type": "code",
   "execution_count": 2,
   "metadata": {
    "ExecuteTime": {
     "end_time": "2020-03-19T05:27:15.436397Z",
     "start_time": "2020-03-19T05:27:15.434299Z"
    }
   },
   "outputs": [],
   "source": [
    "import glob"
   ]
  },
  {
   "cell_type": "code",
   "execution_count": 3,
   "metadata": {
    "ExecuteTime": {
     "end_time": "2020-03-19T05:27:15.507129Z",
     "start_time": "2020-03-19T05:27:15.437700Z"
    }
   },
   "outputs": [],
   "source": [
    "flist = sorted(glob.glob('/g/data/hj10/admin/opol/level_1/in2019_v06/**/*.*'))"
   ]
  },
  {
   "cell_type": "code",
   "execution_count": 4,
   "metadata": {
    "ExecuteTime": {
     "end_time": "2020-03-19T05:28:05.749747Z",
     "start_time": "2020-03-19T05:27:15.508568Z"
    }
   },
   "outputs": [
    {
     "name": "stdout",
     "output_type": "stream",
     "text": [
      "9776HUB-PPIVol-20191130-080600-0000.hdf processed in  50.14s.\n"
     ]
    }
   ],
   "source": [
    "radar = opol_processing.process_and_save(flist[10000], '.', do_dealiasing=True)"
   ]
  },
  {
   "cell_type": "code",
   "execution_count": 5,
   "metadata": {
    "ExecuteTime": {
     "end_time": "2020-03-19T05:28:05.753171Z",
     "start_time": "2020-03-19T05:28:05.751252Z"
    }
   },
   "outputs": [],
   "source": [
    "# radar.fields.keys()"
   ]
  },
  {
   "cell_type": "code",
   "execution_count": 6,
   "metadata": {
    "ExecuteTime": {
     "end_time": "2020-03-19T05:28:05.762842Z",
     "start_time": "2020-03-19T05:28:05.754280Z"
    }
   },
   "outputs": [],
   "source": [
    "# r = opol_processing.radar_codes.read_radar(flist[0])"
   ]
  },
  {
   "cell_type": "code",
   "execution_count": 7,
   "metadata": {
    "ExecuteTime": {
     "end_time": "2020-03-19T05:28:05.770929Z",
     "start_time": "2020-03-19T05:28:05.764139Z"
    }
   },
   "outputs": [],
   "source": [
    "# r.fields.keys()"
   ]
  },
  {
   "cell_type": "code",
   "execution_count": null,
   "metadata": {},
   "outputs": [],
   "source": []
  }
 ],
 "metadata": {
  "kernelspec": {
   "display_name": "Python 3",
   "language": "python",
   "name": "python3"
  },
  "language_info": {
   "codemirror_mode": {
    "name": "ipython",
    "version": 3
   },
   "file_extension": ".py",
   "mimetype": "text/x-python",
   "name": "python",
   "nbconvert_exporter": "python",
   "pygments_lexer": "ipython3",
   "version": "3.8.1"
  },
  "varInspector": {
   "cols": {
    "lenName": 16,
    "lenType": 16,
    "lenVar": 40
   },
   "kernels_config": {
    "python": {
     "delete_cmd_postfix": "",
     "delete_cmd_prefix": "del ",
     "library": "var_list.py",
     "varRefreshCmd": "print(var_dic_list())"
    },
    "r": {
     "delete_cmd_postfix": ") ",
     "delete_cmd_prefix": "rm(",
     "library": "var_list.r",
     "varRefreshCmd": "cat(var_dic_list()) "
    }
   },
   "types_to_exclude": [
    "module",
    "function",
    "builtin_function_or_method",
    "instance",
    "_Feature"
   ],
   "window_display": false
  }
 },
 "nbformat": 4,
 "nbformat_minor": 4
}
