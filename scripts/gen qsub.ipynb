{
 "cells": [
  {
   "cell_type": "code",
   "execution_count": 1,
   "id": "48725482",
   "metadata": {
    "ExecuteTime": {
     "end_time": "2022-09-07T06:33:23.951341Z",
     "start_time": "2022-09-07T06:33:23.947437Z"
    }
   },
   "outputs": [],
   "source": [
    "import os"
   ]
  },
  {
   "cell_type": "code",
   "execution_count": 2,
   "id": "b1eaefe4",
   "metadata": {
    "ExecuteTime": {
     "end_time": "2022-09-07T06:33:36.633207Z",
     "start_time": "2022-09-07T06:33:36.628830Z"
    }
   },
   "outputs": [],
   "source": [
    "def gen_txt(path):\n",
    "    txt = f\"\"\"#!/bin/bash\n",
    "#PBS -P kl02\n",
    "#PBS -q normal\n",
    "#PBS -l walltime=00:45:00\n",
    "#PBS -l mem=64GB\n",
    "#PBS -l wd\n",
    "#PBS -l jobfs=1GB\n",
    "#PBS -l ncpus=16\n",
    "#PBS -lstorage=scratch/kl02+gdata/hj10\n",
    "\n",
    "source activate radar\n",
    "\n",
    "python dpqc_opol.py -i {path}\n",
    "\"\"\"\n",
    "    return txt"
   ]
  },
  {
   "cell_type": "code",
   "execution_count": 3,
   "id": "70fc0e07",
   "metadata": {
    "ExecuteTime": {
     "end_time": "2022-09-07T06:33:50.545414Z",
     "start_time": "2022-09-07T06:33:50.440846Z"
    }
   },
   "outputs": [],
   "source": [
    "inpath = \"/g/data/hj10/admin/opol/level_1/\"\n",
    "for d in os.listdir(inpath):\n",
    "    if d == \"level_1_daily_gif\" or d == \"in2020_hobart\":\n",
    "        continue\n",
    "    p = os.path.join(inpath, d)\n",
    "    with open(f\"qdpqc.{d}.pbs\", \"w+\") as fid:\n",
    "        fid.write(gen_txt(p))"
   ]
  },
  {
   "cell_type": "code",
   "execution_count": null,
   "id": "de31226b",
   "metadata": {},
   "outputs": [],
   "source": []
  }
 ],
 "metadata": {
  "kernelspec": {
   "display_name": "Python 3 (ipykernel)",
   "language": "python",
   "name": "python3"
  },
  "language_info": {
   "codemirror_mode": {
    "name": "ipython",
    "version": 3
   },
   "file_extension": ".py",
   "mimetype": "text/x-python",
   "name": "python",
   "nbconvert_exporter": "python",
   "pygments_lexer": "ipython3",
   "version": "3.10.4"
  },
  "varInspector": {
   "cols": {
    "lenName": 16,
    "lenType": 16,
    "lenVar": 40
   },
   "kernels_config": {
    "python": {
     "delete_cmd_postfix": "",
     "delete_cmd_prefix": "del ",
     "library": "var_list.py",
     "varRefreshCmd": "print(var_dic_list())"
    },
    "r": {
     "delete_cmd_postfix": ") ",
     "delete_cmd_prefix": "rm(",
     "library": "var_list.r",
     "varRefreshCmd": "cat(var_dic_list()) "
    }
   },
   "types_to_exclude": [
    "module",
    "function",
    "builtin_function_or_method",
    "instance",
    "_Feature"
   ],
   "window_display": false
  }
 },
 "nbformat": 4,
 "nbformat_minor": 5
}
