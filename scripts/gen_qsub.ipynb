{
 "cells": [
  {
   "cell_type": "code",
   "execution_count": null,
   "metadata": {
    "ExecuteTime": {
     "end_time": "2020-04-27T05:47:58.256831Z",
     "start_time": "2020-04-27T05:47:55.005943Z"
    }
   },
   "outputs": [],
   "source": [
    "import glob\n",
    "import os"
   ]
  },
  {
   "cell_type": "code",
   "execution_count": null,
   "metadata": {
    "ExecuteTime": {
     "end_time": "2020-04-27T05:48:39.017326Z",
     "start_time": "2020-04-27T05:48:39.008069Z"
    }
   },
   "outputs": [],
   "source": [
    "fpath = glob.glob('/g/data/hj10/admin/opol/level_1/*/')\n",
    "OUTPATH = '/scratch/kl02/vhl548/opol'"
   ]
  },
  {
   "cell_type": "code",
   "execution_count": null,
   "metadata": {
    "ExecuteTime": {
     "end_time": "2020-04-27T05:48:44.302389Z",
     "start_time": "2020-04-27T05:48:44.298706Z"
    }
   },
   "outputs": [],
   "source": [
    "def get_txt(inpath):\n",
    "    conf_txt = f\"\"\"#!/bin/bash\n",
    "#PBS -P kl02\n",
    "#PBS -q normal\n",
    "#PBS -l walltime=10:00:00\n",
    "#PBS -l mem=128GB\n",
    "#PBS -l wd\n",
    "#PBS -l ncpus=16\n",
    "#PBS -lstorage=scratch/hj10+gdata/hj10+scratch/kl02+gdata/kl02+gdata/rq0\n",
    "source activate radar\n",
    "\n",
    "python dask_pack.py -i {inpath}\n",
    "\"\"\"\n",
    "    return conf_txt"
   ]
  },
  {
   "cell_type": "code",
   "execution_count": null,
   "metadata": {
    "ExecuteTime": {
     "end_time": "2020-04-27T05:48:55.544568Z",
     "start_time": "2020-04-27T05:48:55.505631Z"
    }
   },
   "outputs": [],
   "source": [
    "for f in fpath: \n",
    "    if 'cfradial' not in f:\n",
    "        txt = get_txt(f) \n",
    "        fname = 'q' + f.split('/')[-2] + '.pbs'\n",
    "        with open(fname, 'w+') as fid:\n",
    "            fid.write(txt)"
   ]
  },
  {
   "cell_type": "code",
   "execution_count": null,
   "metadata": {},
   "outputs": [],
   "source": []
  }
 ],
 "metadata": {
  "kernelspec": {
   "display_name": "Python 3",
   "language": "python",
   "name": "python3"
  },
  "language_info": {
   "codemirror_mode": {
    "name": "ipython",
    "version": 3
   },
   "file_extension": ".py",
   "mimetype": "text/x-python",
   "name": "python",
   "nbconvert_exporter": "python",
   "pygments_lexer": "ipython3",
   "version": "3.8.2"
  },
  "varInspector": {
   "cols": {
    "lenName": 16,
    "lenType": 16,
    "lenVar": 40
   },
   "kernels_config": {
    "python": {
     "delete_cmd_postfix": "",
     "delete_cmd_prefix": "del ",
     "library": "var_list.py",
     "varRefreshCmd": "print(var_dic_list())"
    },
    "r": {
     "delete_cmd_postfix": ") ",
     "delete_cmd_prefix": "rm(",
     "library": "var_list.r",
     "varRefreshCmd": "cat(var_dic_list()) "
    }
   },
   "types_to_exclude": [
    "module",
    "function",
    "builtin_function_or_method",
    "instance",
    "_Feature"
   ],
   "window_display": false
  }
 },
 "nbformat": 4,
 "nbformat_minor": 4
}
